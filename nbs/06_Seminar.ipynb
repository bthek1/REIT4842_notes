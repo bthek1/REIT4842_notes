{
 "cells": [
  {
   "cell_type": "markdown",
   "metadata": {},
   "source": [
    "# Seminar\n",
    "\n",
    "> Seminar"
   ]
  },
  {
   "cell_type": "code",
   "execution_count": null,
   "metadata": {},
   "outputs": [],
   "source": [
    "#| default_exp research"
   ]
  },
  {
   "cell_type": "raw",
   "metadata": {},
   "source": [
    "## Criteria"
   ]
  },
  {
   "cell_type": "markdown",
   "metadata": {},
   "source": [
    "- 30% Mastery of materials, excellent progress, originality\n",
    "- 30% Good insights, good converage of background research, good flow of ideas\n",
    "- Confident, good eye contact, clear and articular, good answers\n",
    "- Visuals are clear, uncluttered, relevent, etc.\n",
    "- Pacing is appropriate, seminar stays within time."
   ]
  },
  {
   "cell_type": "markdown",
   "metadata": {},
   "source": [
    "## Activity 1"
   ]
  },
  {
   "cell_type": "markdown",
   "metadata": {},
   "source": [
    "1. Summarize what I need to achieve by the end of this semester.\n",
    "   1. Create a base line depth estimator\n",
    "   2. Create a base line 2D object segmentation model\n",
    "   3. Add depth erstimator to the 2D object segmentation model\n",
    "   \n",
    "\n",
    "2. What have you achieved so far?\n",
    "   1. Create a base line depth estimator\n",
    "   2. Create a base line 2D object segmentation model\n",
    "\n",
    "3. What is left to be done?\n",
    "   1. Add depth erstimator to the 2D object segmentation model"
   ]
  },
  {
   "cell_type": "markdown",
   "metadata": {},
   "source": [
    "## Seminar Preparation Logistics"
   ]
  },
  {
   "cell_type": "markdown",
   "metadata": {},
   "source": [
    "- Date - how much time to prepare\n",
    "- Time allowed for the talk - 15 mins + 5 mins Qs\n",
    "- Does that include time for questions\n",
    "- Room - how big, what shape?\n",
    "- Room/Zoom equipement\n",
    "- Your equipment - laptop\n",
    "- Audience - who are they, how much do they know already\n",
    "- Opportunity for technical rehearsal?"
   ]
  },
  {
   "cell_type": "markdown",
   "metadata": {},
   "source": [
    "## First steps"
   ]
  },
  {
   "cell_type": "markdown",
   "metadata": {},
   "source": [
    "- Purpose\n",
    "  - Audience\n",
    "    - School, research division\n",
    "    - Share some context\n",
    "  - Effect - Accept thesis/ project proposal\n",
    "  - Message\n",
    "    - Why is this problem interesting?\n",
    "    - How am i going to solve it?\n",
    "    - What do i want them to remember?\n",
    " \n",
    "- Structure\n",
    "  - what to say\n",
    " \n",
    "- Presentation\n",
    "  - How to deliver it?"
   ]
  },
  {
   "cell_type": "markdown",
   "metadata": {},
   "source": [
    "## Structure"
   ]
  },
  {
   "cell_type": "markdown",
   "metadata": {},
   "source": [
    "- Outline - Outline of presentation\n",
    "- Body - Then you them\n",
    "- Summary\n",
    "\n",
    "\n",
    "**Time line on the side**"
   ]
  },
  {
   "cell_type": "markdown",
   "metadata": {},
   "source": [
    "## Story Board"
   ]
  },
  {
   "cell_type": "markdown",
   "metadata": {},
   "source": [
    "- introduce the topic\n",
    "  - title\n",
    "  - name\n",
    "\n",
    "- definition of topic\n",
    "  - high level understanding (eyes) with diagram\n",
    "\n",
    "- Literature review and previous results\n",
    "  - Is that obvious?\n",
    "  - define monocular\n",
    "  - define 2.5D\n",
    "  - define object classification, object detection and object segmentation\n",
    "  - Lets dig a little deeper - current default method in object detection and segmenation\n",
    "  - Research into Depth estimators from monocular input\n",
    "    - models\n",
    "    - dataset\n",
    "  - Research into 2.5 object classification, object detection and object segmentation\n",
    "    - models\n",
    "    - dataset\n",
    "   \n",
    "- Gap in knowledge\n",
    "\n",
    "- my specific project question/topic\n",
    "\n",
    "- My method to address my question\n",
    "\n",
    "- Challenges i face\n",
    "  - Measure compute complexity\n",
    "  - Measure time complexity\n",
    "\n",
    "- Progress so far\n",
    "  \n",
    "- Possible outcomes\n",
    "\n",
    "- Significance of this research\n",
    "\n",
    "- Current Project\n",
    "\n",
    "- Future work and take home message"
   ]
  },
  {
   "cell_type": "code",
   "execution_count": null,
   "metadata": {},
   "outputs": [],
   "source": []
  }
 ],
 "metadata": {
  "kernelspec": {
   "display_name": "python3",
   "language": "python",
   "name": "python3"
  }
 },
 "nbformat": 4,
 "nbformat_minor": 4
}
