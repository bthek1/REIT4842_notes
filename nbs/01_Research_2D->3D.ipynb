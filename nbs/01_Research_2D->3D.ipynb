{
 "cells": [
  {
   "cell_type": "markdown",
   "metadata": {},
   "source": [
    "# Research 2D to 2.5D\n",
    "\n",
    "> Research 2D to 2.5D"
   ]
  },
  {
   "cell_type": "code",
   "execution_count": null,
   "metadata": {},
   "outputs": [],
   "source": [
    "#| default_exp research"
   ]
  },
  {
   "cell_type": "markdown",
   "metadata": {},
   "source": [
    "## Papers"
   ]
  },
  {
   "cell_type": "markdown",
   "metadata": {},
   "source": [
    "(pdf) Monocular depth estimation based on deep learning: An overview - https://link.springer.com/article/10.1007/s11431-020-1582-8\n",
    "\n",
    "Monocular Depth Estimation: A Survey - https://arxiv.org/pdf/1901.09402.pdf"
   ]
  },
  {
   "cell_type": "markdown",
   "metadata": {},
   "source": [
    "Deep learning for monocular depth estimation: A review - https://www.sciencedirect.com/science/article/pii/S0925231220320014?casa_token=ysp2u82qtI4AAAAA:cUbSkX06F0sADtiP6Gc-d27w4jpMdqGrd4fpZl88H1Vm4z5UBzBkmi5AJ5SMhwYliEhzrOsh6Q\n",
    "\n"
   ]
  },
  {
   "cell_type": "markdown",
   "metadata": {},
   "source": [
    "## Timeline"
   ]
  },
  {
   "cell_type": "markdown",
   "metadata": {},
   "source": [
    "## Datasets"
   ]
  },
  {
   "cell_type": "markdown",
   "metadata": {},
   "source": [
    "- NYUD-V2\n",
    "- KITTI\n",
    "- Make3D\n",
    "\n",
    "\n",
    "- SUN RGB-D - \n"
   ]
  },
  {
   "cell_type": "markdown",
   "metadata": {},
   "source": [
    "## Models"
   ]
  },
  {
   "cell_type": "markdown",
   "metadata": {},
   "source": [
    "- use FFT"
   ]
  },
  {
   "cell_type": "code",
   "execution_count": null,
   "metadata": {},
   "outputs": [],
   "source": []
  }
 ],
 "metadata": {
  "kernelspec": {
   "display_name": "python3",
   "language": "python",
   "name": "python3"
  }
 },
 "nbformat": 4,
 "nbformat_minor": 4
}
