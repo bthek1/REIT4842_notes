{
 "cells": [
  {
   "cell_type": "markdown",
   "metadata": {},
   "source": [
    "# Research 2D to 2.5D\n",
    "\n",
    "> Research 2D to 2.5D"
   ]
  },
  {
   "cell_type": "code",
   "execution_count": null,
   "metadata": {},
   "outputs": [],
   "source": [
    "#| default_exp research"
   ]
  },
  {
   "cell_type": "markdown",
   "metadata": {},
   "source": [
    "## Papers"
   ]
  },
  {
   "cell_type": "markdown",
   "metadata": {},
   "source": [
    "(pdf) High-quality indoor scene 3D reconstruction with RGB-D cameras: A brief review - https://link.springer.com/article/10.1007/s41095-021-0250-8\n",
    "\n",
    "\n",
    "(pdf) Deep Learning for Generic Object Detection: A Survey - https://link.springer.com/article/10.1007/s11263-019-01247-4\n",
    "\n",
    "\n",
    "Progress in multi-object detection models: a comprehensive survey - https://link.springer.com/article/10.1007/s11042-022-14131-0"
   ]
  },
  {
   "cell_type": "markdown",
   "metadata": {},
   "source": [
    "## Timeline"
   ]
  },
  {
   "cell_type": "markdown",
   "metadata": {},
   "source": [
    "## Datasets"
   ]
  },
  {
   "cell_type": "markdown",
   "metadata": {},
   "source": [
    "## Models"
   ]
  },
  {
   "cell_type": "markdown",
   "metadata": {},
   "source": [
    "detectron2 - https://ai.meta.com/tools/detectron2/\n",
    "\n"
   ]
  },
  {
   "cell_type": "code",
   "execution_count": null,
   "metadata": {},
   "outputs": [],
   "source": []
  }
 ],
 "metadata": {
  "kernelspec": {
   "display_name": "python3",
   "language": "python",
   "name": "python3"
  }
 },
 "nbformat": 4,
 "nbformat_minor": 4
}
