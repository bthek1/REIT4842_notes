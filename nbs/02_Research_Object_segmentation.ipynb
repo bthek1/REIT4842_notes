{
 "cells": [
  {
   "cell_type": "markdown",
   "metadata": {},
   "source": [
    "# Research Object Segmentation and Object detection\n",
    "\n",
    "> Research Object Segmentation and Object detection"
   ]
  },
  {
   "cell_type": "code",
   "execution_count": null,
   "metadata": {},
   "outputs": [],
   "source": [
    "#| default_exp research"
   ]
  },
  {
   "cell_type": "markdown",
   "metadata": {},
   "source": [
    "## Papers"
   ]
  },
  {
   "cell_type": "markdown",
   "metadata": {},
   "source": [
    "(pdf) High-quality indoor scene 3D reconstruction with RGB-D cameras: A brief review - https://link.springer.com/article/10.1007/s41095-021-0250-8\n",
    "\n",
    "\n",
    "(pdf) Deep Learning for Generic Object Detection: A Survey - https://link.springer.com/article/10.1007/s11263-019-01247-4\n",
    "\n",
    "\n",
    "Progress in multi-object detection models: a comprehensive survey - https://link.springer.com/article/10.1007/s11042-022-14131-0\n",
    "\n",
    "Depth-Assisted Joint Detection Network For Monocular 3d Object Detection - https://ieeexplore.ieee.org/document/9506647 \n",
    "\n",
    "Monocular 3D Object Detection of Moving Objects Using Random Sampling and Deep Layer Aggregation - https://ieeexplore.ieee.org/document/10043422\n",
    "\n",
    "Depth-Assisted Joint Detection Network For Monocular 3d Object Detection - https://ieeexplore.ieee.org/document/9966379\n",
    "\n",
    "Cross-Modality Knowledge Distillation Network for Monocular 3D Object Detection - https://arxiv.org/pdf/2211.07171v1.pdf\n",
    "\n",
    "\n",
    "3D Object Detection - https://paperswithcode.com/task/3d-object-detection"
   ]
  },
  {
   "cell_type": "markdown",
   "metadata": {},
   "source": [
    "## Timeline"
   ]
  },
  {
   "cell_type": "markdown",
   "metadata": {},
   "source": [
    "## Datasets"
   ]
  },
  {
   "cell_type": "markdown",
   "metadata": {},
   "source": [
    "nuScenes\n",
    "\n",
    "kitti\n",
    "\n",
    "Imagenet - "
   ]
  },
  {
   "cell_type": "markdown",
   "metadata": {},
   "source": [
    "## Models"
   ]
  },
  {
   "cell_type": "markdown",
   "metadata": {},
   "source": [
    "detectron2 - https://ai.meta.com/tools/detectron2/\n",
    "\n"
   ]
  },
  {
   "cell_type": "code",
   "execution_count": null,
   "metadata": {},
   "outputs": [],
   "source": []
  },
  {
   "cell_type": "markdown",
   "metadata": {},
   "source": []
  }
 ],
 "metadata": {
  "kernelspec": {
   "display_name": "python3",
   "language": "python",
   "name": "python3"
  }
 },
 "nbformat": 4,
 "nbformat_minor": 4
}
