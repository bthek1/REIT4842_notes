{
 "cells": [
  {
   "cell_type": "markdown",
   "metadata": {},
   "source": [
    "# Proposal\n",
    "\n",
    "> Proposal Draft"
   ]
  },
  {
   "cell_type": "code",
   "execution_count": null,
   "metadata": {},
   "outputs": [],
   "source": [
    "#| default_exp proposal"
   ]
  },
  {
   "cell_type": "markdown",
   "metadata": {},
   "source": [
    "|Criteria|Pass|Fail|\n",
    "|---|---|---|\n",
    "|Topic Definition|Clear and concise definition of the research question or problem to be addressed, along with a compelling motivation for why it is  important. The topic should be relevant to the field of study and demonstrate originality and potential for contribution.| Unclear or vague research question or problem, with no clear motivation or relevance to the field of study. The topic may be too broad, too narrow, or unoriginal.|\n",
    "|Aims| The aims are clearly stated and focused on the overall goals and objectives of the research project and demonstrate a clear understanding of the research problem and its significance.|The aims are vague or unclear, making it difficult to determine the purpose of the research project, or the aims are task-focused rather than outcome-focused, indicating a lack of understanding of the research problem and its significance.|\n",
    "|Background|Comprehensive and well-organized review of the relevant background material, providing a good background to understand the topic are presented.|Superficial or incomplete review of the background material, poorly organized, or demonstrates a poor understanding of the topic area|\n",
    "|Literature Review|Comprehensive and critical review of the literature related to the research question or problem, demonstrating a strong understanding of the existing research, identifying gaps and limitations.|Incomplete or superficial review of the literature, lacking in critical analysis or coherence, and failing to identify relevant gaps or limitations in the existing research. The review may also be poorly organized.|\n",
    "|Selection of references|At least 15 references are presented from reliable sources which have demonstrated relevance to the proposed project.|Some references are unreliable or irrelevant to the proposed project, or there are too few of them.|\n",
    "|Milestones|Well thought out milestones, with the associated due dates as well as required resources have been stated. (This section can be brief in the draft version)|Milestones are not well thought out, and not in logical flow, or no associated dates or resources have been identified.|\n",
    "|Bibliographic style|The references conform to the IEEE or APA style.|Some references are incorrectly formatted.|\n"
   ]
  },
  {
   "cell_type": "code",
   "execution_count": null,
   "metadata": {},
   "outputs": [],
   "source": []
  }
 ],
 "metadata": {
  "kernelspec": {
   "display_name": "python3",
   "language": "python",
   "name": "python3"
  }
 },
 "nbformat": 4,
 "nbformat_minor": 4
}
